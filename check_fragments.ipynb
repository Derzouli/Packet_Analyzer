{
 "cells": [
  {
   "cell_type": "code",
   "execution_count": 105,
   "metadata": {},
   "outputs": [
    {
     "name": "stdout",
     "output_type": "stream",
     "text": [
      "Requirement already satisfied: scapy==2.4.4 in /opt/anaconda3/lib/python3.8/site-packages (2.4.4)\n",
      "Network trace from file: ./pcap/fragmented_dns.pcap\n",
      "Frame with ID: 242 cannot be reassemble yet\n",
      "Frame with ID: 242 cannot be reassemble yet\n",
      "Frame with ID: 242 can reassemble\n",
      "Network trace from file: ./pcap/Teardrop_Attack.pcap\n",
      "Frame with ID: 0 cannot be reassemble yet\n",
      "Frame with ID: 242 cannot be reassemble yet\n",
      "Frame with ID: 242 cannot be reassemble yet\n",
      "Frame with ID: 242 cannot be reassemble yet\n",
      "Frame with ID: 242 cannot be reassemble yet\n",
      "Frame with ID: 242 cannot be reassemble yet\n",
      "Frame with ID: 242 cannot be reassemble yet\n",
      "Frame with ID: 242 cannot be reassemble yet\n",
      "Frame with ID: 242 cannot be reassemble yet\n",
      "Frame with ID: 242 cannot be reassemble yet\n"
     ]
    }
   ],
   "source": [
    "import sys\n",
    "!{sys.executable} -m pip install scapy==2.4.4\n",
    "from scapy.all import *\n",
    "\n",
    "class Reassembled_Packet(object):\n",
    "    def __init__(self, packet):\n",
    "        self.id = packet.id\n",
    "        self.list_of_fragments = list()\n",
    "        \n",
    "    class fragment_sorted(object):\n",
    "        def __call__(self, fn):\n",
    "            def deco(self, *args):  \n",
    "                fn(self, args)\n",
    "                self.check_fragments(self.id)\n",
    "            return deco\n",
    "\n",
    "    @fragment_sorted()\n",
    "    def add_fragment(self, packet):\n",
    "        self.list_of_fragments.append(packet[0])\n",
    "        \n",
    "    def sort_fragments(self):\n",
    "        self.list_of_fragments = sorted(self.list_of_fragments, key=lambda fragment: fragment.frag)\n",
    "        self.reassemble()\n",
    "\n",
    "    def check_fragments(self, unique_id):\n",
    "        if len(self.list_of_fragments) > 1:\n",
    "            if self.list_of_fragments[0].frag == 0 and (self.list_of_fragments[-1].flags & 'MF') == 0:\n",
    "                print(f\"Frame with ID: {unique_id} can reassemble\")\n",
    "                return True\n",
    "        print(f\"Frame with ID: {unique_id} cannot be reassemble yet\")\n",
    "        return False\n",
    "\n",
    "def check_fragments_packet(filename):\n",
    "    list_of_packet_id = {}\n",
    "    frame = 0\n",
    "    print(f\"Network trace from file: {filename}\")\n",
    "    packet_list = rdpcap(filename)\n",
    "    for packet in packet_list: # loop over the packet list\n",
    "        frame += 1\n",
    "        if packet.id in list_of_packet_id.keys(): \n",
    "            list_of_packet_id[packet.id].add_fragment(packet)\n",
    "        else:\n",
    "            new_rea_pkt = Reassembled_Packet(packet)\n",
    "            new_rea_pkt.add_fragment(packet)\n",
    "            list_of_packet_id[packet.id] = new_rea_pkt\n",
    "\n",
    "check_fragments_packet('./pcap/fragmented_dns.pcap')         \n",
    "check_fragments_packet('./pcap/Teardrop_Attack.pcap')"
   ]
  },
  {
   "cell_type": "code",
   "execution_count": null,
   "metadata": {},
   "outputs": [],
   "source": []
  },
  {
   "cell_type": "code",
   "execution_count": null,
   "metadata": {},
   "outputs": [],
   "source": []
  }
 ],
 "metadata": {
  "kernelspec": {
   "display_name": "Python 3",
   "language": "python",
   "name": "python3"
  },
  "language_info": {
   "codemirror_mode": {
    "name": "ipython",
    "version": 3
   },
   "file_extension": ".py",
   "mimetype": "text/x-python",
   "name": "python",
   "nbconvert_exporter": "python",
   "pygments_lexer": "ipython3",
   "version": "3.8.5"
  }
 },
 "nbformat": 4,
 "nbformat_minor": 4
}

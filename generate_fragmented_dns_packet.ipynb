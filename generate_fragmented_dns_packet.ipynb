{
 "cells": [
  {
   "cell_type": "code",
   "execution_count": 3,
   "metadata": {},
   "outputs": [
    {
     "name": "stdout",
     "output_type": "stream",
     "text": [
      "Requirement already satisfied: scapy==2.4.4 in /opt/anaconda3/lib/python3.8/site-packages (2.4.4)\r\n"
     ]
    }
   ],
   "source": [
    "import sys\n",
    "!{sys.executable} -m pip install scapy==2.4.4\n",
    "from scapy.all import *\n",
    "\n",
    "def write(pkt):\n",
    "    wrpcap('./pcap/fragmented_dns.pcap', pkt, append=True)\n",
    "\n",
    "packet = IP(dst=\"192.168.99.100\", src=\"192.168.99.1\", id=242)/UDP(sport=53,dport=53)/DNS()\n",
    "frags=fragment(packet,fragsize=8)\n",
    "for frag in frags:\n",
    "    write(frag)\n"
   ]
  },
  {
   "cell_type": "code",
   "execution_count": null,
   "metadata": {},
   "outputs": [],
   "source": []
  }
 ],
 "metadata": {
  "kernelspec": {
   "display_name": "Python 3",
   "language": "python",
   "name": "python3"
  },
  "language_info": {
   "codemirror_mode": {
    "name": "ipython",
    "version": 3
   },
   "file_extension": ".py",
   "mimetype": "text/x-python",
   "name": "python",
   "nbconvert_exporter": "python",
   "pygments_lexer": "ipython3",
   "version": "3.8.5"
  }
 },
 "nbformat": 4,
 "nbformat_minor": 4
}

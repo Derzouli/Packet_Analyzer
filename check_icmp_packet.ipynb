{
 "cells": [
  {
   "cell_type": "code",
   "execution_count": 2,
   "metadata": {},
   "outputs": [
    {
     "name": "stdout",
     "output_type": "stream",
     "text": [
      "Requirement already satisfied: scapy==2.4.4 in /opt/anaconda3/lib/python3.8/site-packages (2.4.4)\n",
      "Network trace from file: ./pcap/Ping_Of_Death.pcap\n",
      "Frame 1: The ICMP packet is suspicious format\n",
      "###[ Ethernet ]### \n",
      "  dst       = 00:02:02:02:02:02\n",
      "  src       = 00:01:01:01:01:01\n",
      "  type      = IPv4\n",
      "###[ IP ]### \n",
      "     version   = 4\n",
      "     ihl       = 5\n",
      "     tos       = 0x0\n",
      "     len       = 116\n",
      "     id        = 0\n",
      "     flags     = MF\n",
      "     frag      = 0\n",
      "     ttl       = 64\n",
      "     proto     = icmp\n",
      "     chksum    = 0xd0fa\n",
      "     src       = 192.168.1.1\n",
      "     dst       = 192.168.7.61\n",
      "     \\options   \\\n",
      "###[ ICMP ]### \n",
      "        type      = echo-request\n",
      "        code      = 0\n",
      "        chksum    = 0x6e21\n",
      "        id        = 0x4444\n",
      "        seq       = 0x4f53\n",
      "###[ Raw ]### \n",
      "           load      = 'HighPerf\\x00\\x00\\x00\\x00\\x00\\x01\\x02\\x03\\x04\\x05\\x06\\x07\\x08\\t\\n\\x0b\\x0c\\r\\x0e\\x0f\\x10\\x11\\x12\\x13\\x14\\x15\\x16\\x17\\x18\\x19\\x1a\\x1b\\x1c\\x1d\\x1e\\x1f !\"#$%&\\'()*+,-./0123456789:;<=>?@ABCDEFGHIJK'\n",
      "\n",
      "Network trace from file: ./pcap/normal_ping.pcapng\n",
      "Frame 1: The ICMP packet is correct format\n",
      "###[ Ethernet ]### \n",
      "  dst       = 08:00:27:1f:30:76\n",
      "  src       = 0a:00:27:00:00:00\n",
      "  type      = IPv4\n",
      "###[ IP ]### \n",
      "     version   = 4\n",
      "     ihl       = 5\n",
      "     tos       = 0x0\n",
      "     len       = 84\n",
      "     id        = 64383\n",
      "     flags     = \n",
      "     frag      = 0\n",
      "     ttl       = 64\n",
      "     proto     = icmp\n",
      "     chksum    = 0x3773\n",
      "     src       = 192.168.99.1\n",
      "     dst       = 192.168.99.100\n",
      "     \\options   \\\n",
      "###[ ICMP ]### \n",
      "        type      = echo-request\n",
      "        code      = 0\n",
      "        chksum    = 0xfcf8\n",
      "        id        = 0xc50c\n",
      "        seq       = 0x0\n",
      "###[ Raw ]### \n",
      "           load      = '`\\x1e6P\\x00\\x04\\xb4\\x84\\x08\\t\\n\\x0b\\x0c\\r\\x0e\\x0f\\x10\\x11\\x12\\x13\\x14\\x15\\x16\\x17\\x18\\x19\\x1a\\x1b\\x1c\\x1d\\x1e\\x1f !\"#$%&\\'()*+,-./01234567'\n",
      "\n"
     ]
    }
   ],
   "source": [
    "import sys\n",
    "!{sys.executable} -m pip install scapy==2.4.4\n",
    "from scapy.all import *\n",
    "\n",
    "def check_ICMP_packet(filename):\n",
    "    frame = 0\n",
    "    packet_list = rdpcap(filename)\n",
    "    print(f\"Network trace from file: {filename}\")\n",
    "    for packet in packet_list: # loop over the packet list\n",
    "        frame += 1\n",
    "        if packet.haslayer(ICMP) is True: # check if the packet has ICMP layer\n",
    "            if len(packet.getlayer(IP).payload) > 84: # check if the length of IP has more than 84 bytes\n",
    "                print(f\"Frame {frame}: The ICMP packet is suspicious format\")\n",
    "                packet.show()\n",
    "            else:\n",
    "                print(f\"Frame {frame}: The ICMP packet is correct format\")\n",
    "                packet.show()\n",
    "                \n",
    "check_ICMP_packet('./pcap/Ping_Of_Death.pcap')\n",
    "check_ICMP_packet('./pcap/normal_ping.pcapng')\n",
    "    \n"
   ]
  },
  {
   "cell_type": "code",
   "execution_count": null,
   "metadata": {},
   "outputs": [],
   "source": []
  }
 ],
 "metadata": {
  "kernelspec": {
   "display_name": "Python 3",
   "language": "python",
   "name": "python3"
  },
  "language_info": {
   "codemirror_mode": {
    "name": "ipython",
    "version": 3
   },
   "file_extension": ".py",
   "mimetype": "text/x-python",
   "name": "python",
   "nbconvert_exporter": "python",
   "pygments_lexer": "ipython3",
   "version": "3.8.5"
  }
 },
 "nbformat": 4,
 "nbformat_minor": 4
}
